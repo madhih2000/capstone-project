{
 "cells": [
  {
   "cell_type": "markdown",
   "metadata": {
    "collapsed": true
   },
   "source": [
    "# A Recommender System for Grocery Contractor\n",
    "## Brief Introduction (Cover Page)\n",
    "### Part 1: Problem Description"
   ]
  },
  {
   "cell_type": "markdown",
   "metadata": {},
   "source": [
    "Part 1: Problem Description\n",
    "There is a grocery contractor in the city of a Toronto. This contractor provides places such as different types of restaurants, bakeries and cafes with fresh and high-quality groceries. The contractor plans to improve the quality of service to regular customers by building a warehouse to store groceries that are bought from villagers and farmers.\n",
    "If the warehouse is near the restaurants, then the groceries would be delivered on time. There would be no delay for the businesses to start their work and cooking in the morning. Hence, quality of service does not decrease, and the contractor will gain reputation and revenue.\n",
    "The cost of transportation is also saved when the warehouse is the nearest to the businesses. Hence, the neighbourhood is a vital factor in the location of warehouse. The recommender system will therefore provide the contractor with the best neighbourhood from the sorted list of neighbourhoods.\n"
   ]
  },
  {
   "cell_type": "markdown",
   "metadata": {},
   "source": [
    "Part 2: Data We Need\n",
    "Firstly, we will need information of the location and the neighbourhoods. The latitude and longitude are important factors in providing information about that borough. We assume it is Scarborough in Toronto. The contractor has already chosen this place in Toronto. Thus, we just need the postal codes that fall into Scarborough. \n",
    "Secondly, we need data about different venues in Scarborough. Foursquare location information would give us enough data. Basic and Advanced information about that venue needs to be known. An example of basic information would be its latitude and longitude. Its distance from centre of the neighbourhood is another one. Advanced information consists of the category of the venue, popularity of the venue, average prices in the market, etc. A typical request from Foursquare will provide us with the following information:\n",
    "[Postal Code] [Neighborhood(s)] [Neighborhood Latitude] [Neighborhood Longitude] [Venue] [Venue Summary] [Venue Category] [Distance (meter)]\n",
    "[M1L] [Clairlea, Golden Mile, Oakridge] [43.711112] [-79.284577] [Tim Hortons] [This spot is popular] [Coffee Shop] [592]\n",
    "\n"
   ]
  },
  {
   "cell_type": "markdown",
   "metadata": {},
   "source": [
    "# Main Article\n",
    "## Part 1: Identifying Neighborhoods inside \"Scarborough\"\n",
    "We will use Postal Codes of different regions inside Scarborough to find the list of neighborhoods. We will essentially obtain our information from https://en.wikipedia.org/wiki/List_of_postal_codes_of_Canada:_M and then process the table from the website.\n"
   ]
  },
  {
   "cell_type": "markdown",
   "metadata": {},
   "source": [
    "## Part 2: Connecting to Foursquare and Retrieving Locational Data\n",
    "After finding the list of neighbourhoods, we then connect to Foursquare API to gather information about venues inside each and every neighbourhood. For each neighbourhood, we have chosen the radius to be 1000 meters. It means that we have asked Foursquare to find venues that are at most 1000 meters far from the centre of the neighbourhood. \n"
   ]
  },
  {
   "cell_type": "markdown",
   "metadata": {},
   "source": [
    "## Part 3: Processing the Retrieved Data and Creating a Dataframe for All the Venues inside Scarborough\n",
    "When the data is completely gathered, we will perform processing of raw data to find our desirable features for each venue. Our main feature is the category of that venue. After this stage, the column \"Venue's Category\" will be One-hot encoded and different venues will have different feature- columns. After On-hot encoding we will integrate all restaurant columns to one column \"Total Restaurants\" and all food joint columns to \"Total Joints\" column. We assumed that different restaurants use the Same raw groceries. This assumption is made for simplicity and due to not having a very detailed dataset about different venues.\n",
    "Now, the dataset is fully ready to be used for machine learning (and statistical analysis) purposes.\n"
   ]
  },
  {
   "cell_type": "markdown",
   "metadata": {},
   "source": [
    "## Part 4: Applying one of Machine Learning Techniques (K-Means Clustering)\n",
    "Here we cluster neighbourhoods via K-means clustering method. We think that 5 clusters are enough and can cover the complexity of our problem. After clustering we will update our dataset and create a column representing the group for each neighbourhood.\n",
    "Decision Making and Reporting Results\n",
    "Now, we focus on the centres of clusters and compare them for their \"Total Restaurants\" and their \"Total Joints\". The group which its centre has the highest \"Total Sum\" will be our best recommendation to the contractor. {Note: Total Sum = Total Restaurants + Total Joints + Other Venues.} \n"
   ]
  },
  {
   "cell_type": "markdown",
   "metadata": {},
   "source": [
    "## Results:\n",
    "Based on this analysis, the best recommended neighbourhood will be:\n",
    "{'Neighbourhood': 'Agincourt',\n",
    "'Postal Code': 'M1S',\n",
    "'Neighbourhood Latitude': 43.7942003,\n",
    "'Neighbourhood Longitude': -79.26202940000002}\n"
   ]
  },
  {
   "cell_type": "code",
   "execution_count": null,
   "metadata": {},
   "outputs": [],
   "source": []
  }
 ],
 "metadata": {
  "kernelspec": {
   "display_name": "Python 3.6",
   "language": "python",
   "name": "python3"
  },
  "language_info": {
   "codemirror_mode": {
    "name": "ipython",
    "version": 3
   },
   "file_extension": ".py",
   "mimetype": "text/x-python",
   "name": "python",
   "nbconvert_exporter": "python",
   "pygments_lexer": "ipython3",
   "version": "3.6.8"
  }
 },
 "nbformat": 4,
 "nbformat_minor": 1
}
